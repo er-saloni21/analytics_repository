{
  "nbformat": 4,
  "nbformat_minor": 0,
  "metadata": {
    "colab": {
      "name": "TopicModelling_LDA1.ipynb",
      "provenance": [],
      "collapsed_sections": []
    },
    "kernelspec": {
      "name": "python3",
      "display_name": "Python 3"
    },
    "language_info": {
      "name": "python"
    }
  },
  "cells": [
    {
      "cell_type": "code",
      "metadata": {
        "colab": {
          "resources": {
            "http://localhost:8080/nbextensions/google.colab/files.js": {
              "data": "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",
              "ok": true,
              "headers": [
                [
                  "content-type",
                  "application/javascript"
                ]
              ],
              "status": 200,
              "status_text": ""
            }
          },
          "base_uri": "https://localhost:8080/",
          "height": 72
        },
        "id": "oJHnVwtB0hDb",
        "outputId": "7a4345b5-e5d5-4e72-e598-b3d7a2655918"
      },
      "source": [
        "from google.colab import files\n",
        "uploaded = files.upload()"
      ],
      "execution_count": null,
      "outputs": [
        {
          "output_type": "display_data",
          "data": {
            "text/html": [
              "\n",
              "     <input type=\"file\" id=\"files-84c13c51-00d7-4cd1-b5bf-c7fbec31c52f\" name=\"files[]\" multiple disabled\n",
              "        style=\"border:none\" />\n",
              "     <output id=\"result-84c13c51-00d7-4cd1-b5bf-c7fbec31c52f\">\n",
              "      Upload widget is only available when the cell has been executed in the\n",
              "      current browser session. Please rerun this cell to enable.\n",
              "      </output>\n",
              "      <script src=\"/nbextensions/google.colab/files.js\"></script> "
            ],
            "text/plain": [
              "<IPython.core.display.HTML object>"
            ]
          },
          "metadata": {}
        },
        {
          "output_type": "stream",
          "text": [
            "Saving reed_data_analyst_latest (1).csv to reed_data_analyst_latest (1).csv\n"
          ],
          "name": "stdout"
        }
      ]
    },
    {
      "cell_type": "code",
      "metadata": {
        "colab": {
          "base_uri": "https://localhost:8080/"
        },
        "id": "XsA0I7Wu842E",
        "outputId": "0cdcc6ea-a3f5-4bb2-d777-921e71e0806b"
      },
      "source": [
        "for fn in uploaded.keys():\n",
        "  print('User uploaded file \"{name}\" with length {length} bytes'. format(name= fn, length=len(uploaded[fn])))"
      ],
      "execution_count": null,
      "outputs": [
        {
          "output_type": "stream",
          "text": [
            "User uploaded file \"reed_data_analyst_latest (1).csv\" with length 1649799 bytes\n"
          ],
          "name": "stdout"
        }
      ]
    },
    {
      "cell_type": "code",
      "metadata": {
        "id": "tf7tPZPI8wgR"
      },
      "source": [
        ""
      ],
      "execution_count": null,
      "outputs": []
    },
    {
      "cell_type": "code",
      "metadata": {
        "id": "cX1852w47xD3"
      },
      "source": [
        "import pandas as pd\n",
        "import io"
      ],
      "execution_count": null,
      "outputs": []
    },
    {
      "cell_type": "code",
      "metadata": {
        "colab": {
          "base_uri": "https://localhost:8080/",
          "height": 564
        },
        "id": "uDuCraX171lK",
        "outputId": "3320f39b-2b48-4bdf-95db-f69b1921ae9c"
      },
      "source": [
        "df= pd.read_csv(io.BytesIO(uploaded['reed_data_analyst_latest (1).csv']))\n",
        "df.head()"
      ],
      "execution_count": null,
      "outputs": [
        {
          "output_type": "execute_result",
          "data": {
            "text/html": [
              "<div>\n",
              "<style scoped>\n",
              "    .dataframe tbody tr th:only-of-type {\n",
              "        vertical-align: middle;\n",
              "    }\n",
              "\n",
              "    .dataframe tbody tr th {\n",
              "        vertical-align: top;\n",
              "    }\n",
              "\n",
              "    .dataframe thead th {\n",
              "        text-align: right;\n",
              "    }\n",
              "</style>\n",
              "<table border=\"1\" class=\"dataframe\">\n",
              "  <thead>\n",
              "    <tr style=\"text-align: right;\">\n",
              "      <th></th>\n",
              "      <th>web-scraper-order</th>\n",
              "      <th>web-scraper-start-url</th>\n",
              "      <th>job_title_link</th>\n",
              "      <th>job_title_link-href</th>\n",
              "      <th>job_title</th>\n",
              "      <th>Company</th>\n",
              "      <th>Salary</th>\n",
              "      <th>Date</th>\n",
              "      <th>job_description</th>\n",
              "      <th>pages</th>\n",
              "      <th>pages-href</th>\n",
              "    </tr>\n",
              "  </thead>\n",
              "  <tbody>\n",
              "    <tr>\n",
              "      <th>0</th>\n",
              "      <td>1628454831-1436</td>\n",
              "      <td>https://www.reed.co.uk/jobs/data-analyst-jobs-...</td>\n",
              "      <td>Data Quality Analyst</td>\n",
              "      <td>https://www.reed.co.uk/jobs/data-quality-analy...</td>\n",
              "      <td>Data Quality Analyst</td>\n",
              "      <td>Profiles Creative</td>\n",
              "      <td>£36,000 - £38,000 per annum, negotiable, inc b...</td>\n",
              "      <td>Posted 20 July by \\n\\n                        ...</td>\n",
              "      <td>A leading online retail &amp; groceries brand is u...</td>\n",
              "      <td>NaN</td>\n",
              "      <td>NaN</td>\n",
              "    </tr>\n",
              "    <tr>\n",
              "      <th>1</th>\n",
              "      <td>1628455695-1752</td>\n",
              "      <td>https://www.reed.co.uk/jobs/data-analyst-jobs-...</td>\n",
              "      <td>Data Analyst</td>\n",
              "      <td>https://www.reed.co.uk/jobs/data-analyst/43351...</td>\n",
              "      <td>Data Analyst</td>\n",
              "      <td>Profectus Recruitment</td>\n",
              "      <td>£30,000 - £40,000 per annum</td>\n",
              "      <td>Posted 13 July by \\n\\n                        ...</td>\n",
              "      <td>Commercial Data Analyst\\nLondon - Part Remote ...</td>\n",
              "      <td>2.0</td>\n",
              "      <td>https://www.reed.co.uk/jobs/data-analyst-jobs-...</td>\n",
              "    </tr>\n",
              "    <tr>\n",
              "      <th>2</th>\n",
              "      <td>1628455409-1639</td>\n",
              "      <td>https://www.reed.co.uk/jobs/data-analyst-jobs-...</td>\n",
              "      <td>Senior Data Analyst</td>\n",
              "      <td>https://www.reed.co.uk/jobs/senior-data-analys...</td>\n",
              "      <td>Senior Data Analyst</td>\n",
              "      <td>Data Idols</td>\n",
              "      <td>Salary negotiable</td>\n",
              "      <td>Posted 28 June by \\n\\n                        ...</td>\n",
              "      <td>Senior Data Analyst  Data Idols are working wi...</td>\n",
              "      <td>NaN</td>\n",
              "      <td>NaN</td>\n",
              "    </tr>\n",
              "    <tr>\n",
              "      <th>3</th>\n",
              "      <td>1628455063-1527</td>\n",
              "      <td>https://www.reed.co.uk/jobs/data-analyst-jobs-...</td>\n",
              "      <td>Market Data Analyst</td>\n",
              "      <td>https://www.reed.co.uk/jobs/market-data-analys...</td>\n",
              "      <td>Market Data Analyst</td>\n",
              "      <td>James Frank Associates</td>\n",
              "      <td>£25,000 per annum</td>\n",
              "      <td>Posted 5 July by \\n\\n                        J...</td>\n",
              "      <td>Our client, a well-established and hugely-succ...</td>\n",
              "      <td>NaN</td>\n",
              "      <td>NaN</td>\n",
              "    </tr>\n",
              "    <tr>\n",
              "      <th>4</th>\n",
              "      <td>1628454193-1193</td>\n",
              "      <td>https://www.reed.co.uk/jobs/data-analyst-jobs-...</td>\n",
              "      <td>Customer Service Data Analyst</td>\n",
              "      <td>https://www.reed.co.uk/jobs/customer-service-d...</td>\n",
              "      <td>Customer Service Data Analyst</td>\n",
              "      <td>Focus Resourcing</td>\n",
              "      <td>Salary negotiable</td>\n",
              "      <td>Posted 30 July by \\n\\n                        ...</td>\n",
              "      <td>4-6 month contract to cover sabbatical  Workin...</td>\n",
              "      <td>NaN</td>\n",
              "      <td>NaN</td>\n",
              "    </tr>\n",
              "  </tbody>\n",
              "</table>\n",
              "</div>"
            ],
            "text/plain": [
              "  web-scraper-order  ...                                         pages-href\n",
              "0   1628454831-1436  ...                                                NaN\n",
              "1   1628455695-1752  ...  https://www.reed.co.uk/jobs/data-analyst-jobs-...\n",
              "2   1628455409-1639  ...                                                NaN\n",
              "3   1628455063-1527  ...                                                NaN\n",
              "4   1628454193-1193  ...                                                NaN\n",
              "\n",
              "[5 rows x 11 columns]"
            ]
          },
          "metadata": {},
          "execution_count": 111
        }
      ]
    },
    {
      "cell_type": "code",
      "metadata": {
        "colab": {
          "base_uri": "https://localhost:8080/"
        },
        "id": "9uKXic_T9gGT",
        "outputId": "6b048ac5-ae3d-4f3b-c396-82669cfd0638"
      },
      "source": [
        "len(df)"
      ],
      "execution_count": null,
      "outputs": [
        {
          "output_type": "execute_result",
          "data": {
            "text/plain": [
              "634"
            ]
          },
          "metadata": {},
          "execution_count": 112
        }
      ]
    },
    {
      "cell_type": "code",
      "metadata": {
        "colab": {
          "base_uri": "https://localhost:8080/"
        },
        "id": "a07n_TeK9lIa",
        "outputId": "750cae55-bb61-4321-b508-e7f0521fb702"
      },
      "source": [
        "print(df.shape)"
      ],
      "execution_count": null,
      "outputs": [
        {
          "output_type": "stream",
          "text": [
            "(634, 11)\n"
          ],
          "name": "stdout"
        }
      ]
    },
    {
      "cell_type": "code",
      "metadata": {
        "colab": {
          "base_uri": "https://localhost:8080/",
          "height": 171
        },
        "id": "RGWAPE0b9oYa",
        "outputId": "cd4673bc-09fa-4a72-9a97-fafaa45d282d"
      },
      "source": [
        "df['job_description'][0]"
      ],
      "execution_count": null,
      "outputs": [
        {
          "output_type": "execute_result",
          "data": {
            "application/vnd.google.colaboratory.intrinsic+json": {
              "type": "string"
            },
            "text/plain": [
              "'A leading online retail & groceries brand is undergoing considerable investment in their Insight & Analytics teams across the business. \\n\\nThis is a fantastic opportunity to join a data-driven e-commerce business at the forefront of technological innovation. Working in an entrepreneurial start-up environment with the backing of a huge brand.\\n\\nThe Role:\\n\\n*The main purpose of the role is to Drive Data quality improvement across the business.\\n*Support the data governance programme (and associated data governance council) through detailed data analysis.\\n*Builds tools and dashboards to monitor quality and provide alerts to all data users.\\n*Manage, monitor, assess, resolve data quality issues with EDW, Data Marts and reporting solutions.\\n*Answer business questions about data, be the bridge between data and Insight.\\n*Assess and profile new data sources to provide input to integration design.\\n*Collaborate with business users and analysts to capture business rules and data quality rules.\\n*Maintain enterprise data model in line with data quality deliverables.\\n\\nThe Candidate:\\n\\n*Minimum 2 years experience working as a Data Quality Analyst.\\n*Experience of creating and implementing data quality dashboards and monitoring techniques.\\n*Experience of data quality profiling, and creating data quality rules agreed with the business stakeholders.\\n*Good Data Modelling experience.\\n*Good SQL and/or PL/SQL experience.\\n*MS Excel/GSheets at an advanced level.\\n*SQL, with table design and creation as a minimum standard, with the ability to manipulate fields, insert, delete and move data.\\n*Knowledge of Data integration, reconfiguration and manipulation\\n*Experience working with cloud platform - especially GCP\\n\\nProfiles Creative is acting as an Employment Agency in relation to this vacancy.'"
            ]
          },
          "metadata": {},
          "execution_count": 114
        }
      ]
    },
    {
      "cell_type": "code",
      "metadata": {
        "colab": {
          "base_uri": "https://localhost:8080/"
        },
        "id": "FqtORSQgNjhN",
        "outputId": "60e31444-c039-4746-9ee6-371d1d0f7d18"
      },
      "source": [
        "from sklearn.feature_extraction.text import CountVectorizer\n",
        "cv= CountVectorizer(max_df=0.75,min_df=2,stop_words='english')\n",
        "dtm=cv.fit_transform(df['job_description'])\n",
        "dtm"
      ],
      "execution_count": null,
      "outputs": [
        {
          "output_type": "execute_result",
          "data": {
            "text/plain": [
              "<634x4821 sparse matrix of type '<class 'numpy.int64'>'\n",
              "\twith 81688 stored elements in Compressed Sparse Row format>"
            ]
          },
          "metadata": {},
          "execution_count": 115
        }
      ]
    },
    {
      "cell_type": "code",
      "metadata": {
        "colab": {
          "base_uri": "https://localhost:8080/"
        },
        "id": "DyB0j1WEOV9A",
        "outputId": "9b6ce738-6e49-45d8-f6d9-739005107872"
      },
      "source": [
        "from sklearn.decomposition import LatentDirichletAllocation\n",
        "LDA=LatentDirichletAllocation(n_components=10,random_state=42)\n",
        "LDA.fit(dtm)\n"
      ],
      "execution_count": null,
      "outputs": [
        {
          "output_type": "execute_result",
          "data": {
            "text/plain": [
              "LatentDirichletAllocation(batch_size=128, doc_topic_prior=None,\n",
              "                          evaluate_every=-1, learning_decay=0.7,\n",
              "                          learning_method='batch', learning_offset=10.0,\n",
              "                          max_doc_update_iter=100, max_iter=10,\n",
              "                          mean_change_tol=0.001, n_components=10, n_jobs=None,\n",
              "                          perp_tol=0.1, random_state=42, topic_word_prior=None,\n",
              "                          total_samples=1000000.0, verbose=0)"
            ]
          },
          "metadata": {},
          "execution_count": 116
        }
      ]
    },
    {
      "cell_type": "markdown",
      "metadata": {
        "id": "l1ZH9YaOPlEA"
      },
      "source": [
        "### 3 steps away\n",
        "grab the vocab\n",
        "grab the topic\n",
        "and finally grab the highest prob. word per topic"
      ]
    },
    {
      "cell_type": "code",
      "metadata": {
        "colab": {
          "base_uri": "https://localhost:8080/"
        },
        "id": "z4rHVjyeO9iI",
        "outputId": "ca08e783-9dc6-4683-d89f-d8e063f73b26"
      },
      "source": [
        "len(cv.get_feature_names())"
      ],
      "execution_count": null,
      "outputs": [
        {
          "output_type": "execute_result",
          "data": {
            "text/plain": [
              "4821"
            ]
          },
          "metadata": {},
          "execution_count": 117
        }
      ]
    },
    {
      "cell_type": "code",
      "metadata": {
        "colab": {
          "base_uri": "https://localhost:8080/"
        },
        "id": "rhVCeoLgQMwz",
        "outputId": "965f98b3-ead1-4c2f-f933-7982284b80bb"
      },
      "source": [
        "type(cv.get_feature_names())"
      ],
      "execution_count": null,
      "outputs": [
        {
          "output_type": "execute_result",
          "data": {
            "text/plain": [
              "list"
            ]
          },
          "metadata": {},
          "execution_count": 118
        }
      ]
    },
    {
      "cell_type": "code",
      "metadata": {
        "colab": {
          "base_uri": "https://localhost:8080/",
          "height": 35
        },
        "id": "TYBnv1fSQRjC",
        "outputId": "fda5c8cd-defc-44fd-c435-be59e946c1ec"
      },
      "source": [
        "cv.get_feature_names()[2550]"
      ],
      "execution_count": null,
      "outputs": [
        {
          "output_type": "execute_result",
          "data": {
            "application/vnd.google.colaboratory.intrinsic+json": {
              "type": "string"
            },
            "text/plain": [
              "'levelproficiency'"
            ]
          },
          "metadata": {},
          "execution_count": 119
        }
      ]
    },
    {
      "cell_type": "code",
      "metadata": {
        "colab": {
          "base_uri": "https://localhost:8080/"
        },
        "id": "G07D-JtXP9gh",
        "outputId": "0ba3faf3-773c-4c6f-c5f6-76b753f34585"
      },
      "source": [
        "import random\n",
        "for i in range(10):\n",
        "  random_word_id=random.randint(0,4821)\n",
        "  print(cv.get_feature_names()[random_word_id])\n"
      ],
      "execution_count": null,
      "outputs": [
        {
          "output_type": "stream",
          "text": [
            "discrepancyresolve\n",
            "mind\n",
            "promote\n",
            "syndicate\n",
            "starts\n",
            "guidelines\n",
            "utility\n",
            "sought\n",
            "ordinator\n",
            "eye\n"
          ],
          "name": "stdout"
        }
      ]
    },
    {
      "cell_type": "code",
      "metadata": {
        "colab": {
          "base_uri": "https://localhost:8080/"
        },
        "id": "cL0kKb61RD6-",
        "outputId": "acea018b-a974-464f-fdde-972a00700481"
      },
      "source": [
        "len(LDA.components_)"
      ],
      "execution_count": null,
      "outputs": [
        {
          "output_type": "execute_result",
          "data": {
            "text/plain": [
              "10"
            ]
          },
          "metadata": {},
          "execution_count": 122
        }
      ]
    },
    {
      "cell_type": "code",
      "metadata": {
        "colab": {
          "base_uri": "https://localhost:8080/"
        },
        "id": "j6eX_A52RIft",
        "outputId": "a7018745-8f3d-439f-f340-de2a72667961"
      },
      "source": [
        "LDA.components_.shape"
      ],
      "execution_count": null,
      "outputs": [
        {
          "output_type": "execute_result",
          "data": {
            "text/plain": [
              "(10, 4821)"
            ]
          },
          "metadata": {},
          "execution_count": 123
        }
      ]
    },
    {
      "cell_type": "code",
      "metadata": {
        "colab": {
          "base_uri": "https://localhost:8080/"
        },
        "id": "UlAMeuMkRQv7",
        "outputId": "8af05001-b472-41b5-9984-309b0dbebeb6"
      },
      "source": [
        "LDA.components_"
      ],
      "execution_count": null,
      "outputs": [
        {
          "output_type": "execute_result",
          "data": {
            "text/plain": [
              "array([[ 0.1       , 46.14270726,  0.1       , ...,  0.1       ,\n",
              "         0.1       ,  0.1       ],\n",
              "       [ 0.52514133, 78.766567  ,  0.1       , ...,  0.10001425,\n",
              "         0.10001247,  0.1       ],\n",
              "       [ 2.10000318,  0.36740769,  0.1       , ...,  0.1       ,\n",
              "         0.1       ,  0.1       ],\n",
              "       ...,\n",
              "       [ 1.3910057 , 25.34785856,  0.1       , ...,  0.10004562,\n",
              "         1.10000062,  2.1       ],\n",
              "       [ 0.10000823,  0.10000738,  0.1       , ...,  0.10000162,\n",
              "         0.1       ,  0.1       ],\n",
              "       [ 0.10000551, 87.47736796,  3.1       , ...,  0.10000053,\n",
              "         1.06533279,  0.1       ]])"
            ]
          },
          "metadata": {},
          "execution_count": 124
        }
      ]
    },
    {
      "cell_type": "code",
      "metadata": {
        "colab": {
          "base_uri": "https://localhost:8080/"
        },
        "id": "j26NdStRVzLi",
        "outputId": "97308aa8-99e9-4f1d-92ef-aaabec02628d"
      },
      "source": [
        "LDA.components_[0]"
      ],
      "execution_count": null,
      "outputs": [
        {
          "output_type": "execute_result",
          "data": {
            "text/plain": [
              "array([ 0.1       , 46.14270726,  0.1       , ...,  0.1       ,\n",
              "        0.1       ,  0.1       ])"
            ]
          },
          "metadata": {},
          "execution_count": 125
        }
      ]
    },
    {
      "cell_type": "code",
      "metadata": {
        "colab": {
          "base_uri": "https://localhost:8080/"
        },
        "id": "k6l2PjAdRTUw",
        "outputId": "dade61e3-9d8b-4a0b-9a34-e1038b9300a3"
      },
      "source": [
        "len(LDA.components_[1])"
      ],
      "execution_count": null,
      "outputs": [
        {
          "output_type": "execute_result",
          "data": {
            "text/plain": [
              "4821"
            ]
          },
          "metadata": {},
          "execution_count": 126
        }
      ]
    },
    {
      "cell_type": "code",
      "metadata": {
        "id": "JJgU75bkRhEX"
      },
      "source": [
        "single_topic = LDA.components_[0]"
      ],
      "execution_count": null,
      "outputs": []
    },
    {
      "cell_type": "code",
      "metadata": {
        "colab": {
          "base_uri": "https://localhost:8080/"
        },
        "id": "MPilcVMSUGEE",
        "outputId": "1a767d0d-2b0a-4eed-fb0e-82424b190a14"
      },
      "source": [
        "single_topic.argsort()"
      ],
      "execution_count": null,
      "outputs": [
        {
          "output_type": "execute_result",
          "data": {
            "text/plain": [
              "array([4467, 2842, 2917, ..., 3680, 3490, 3658])"
            ]
          },
          "metadata": {},
          "execution_count": 128
        }
      ]
    },
    {
      "cell_type": "code",
      "metadata": {
        "colab": {
          "base_uri": "https://localhost:8080/"
        },
        "id": "2DjwnVKcUKPP",
        "outputId": "8564159a-742d-411b-bec3-7138616859e7"
      },
      "source": [
        "#word least representative of this topic\n",
        "single_topic[2550]"
      ],
      "execution_count": null,
      "outputs": [
        {
          "output_type": "execute_result",
          "data": {
            "text/plain": [
              "0.10000000002008995"
            ]
          },
          "metadata": {},
          "execution_count": 129
        }
      ]
    },
    {
      "cell_type": "code",
      "metadata": {
        "colab": {
          "base_uri": "https://localhost:8080/"
        },
        "id": "n4Qf5DvuXoi1",
        "outputId": "90a8ba53-e522-490e-ca67-3170ca9ed002"
      },
      "source": [
        "#word least representative of this topic\n",
        "single_topic[2095]"
      ],
      "execution_count": null,
      "outputs": [
        {
          "output_type": "execute_result",
          "data": {
            "text/plain": [
              "0.10001779273590945"
            ]
          },
          "metadata": {},
          "execution_count": 130
        }
      ]
    },
    {
      "cell_type": "code",
      "metadata": {
        "colab": {
          "base_uri": "https://localhost:8080/"
        },
        "id": "4xqD2y3xXPWh",
        "outputId": "9650c333-458c-4443-a476-2d94adcfac7a"
      },
      "source": [
        "#word most representative of this topic\n",
        "single_topic[2550]"
      ],
      "execution_count": null,
      "outputs": [
        {
          "output_type": "execute_result",
          "data": {
            "text/plain": [
              "0.10000000002008995"
            ]
          },
          "metadata": {},
          "execution_count": 131
        }
      ]
    },
    {
      "cell_type": "code",
      "metadata": {
        "colab": {
          "base_uri": "https://localhost:8080/"
        },
        "id": "sUUOmI55X4-R",
        "outputId": "a7844cda-5c5b-46e0-8d90-d27845707e3b"
      },
      "source": [
        "#top 10 words for this topic\n",
        "single_topic.argsort()[-10:]"
      ],
      "execution_count": null,
      "outputs": [
        {
          "output_type": "execute_result",
          "data": {
            "text/plain": [
              "array([4061, 1997,  129, 4359, 2327, 2681,  337, 3680, 3490, 3658])"
            ]
          },
          "metadata": {},
          "execution_count": 132
        }
      ]
    },
    {
      "cell_type": "code",
      "metadata": {
        "id": "OObYxs8aYYIJ"
      },
      "source": [
        "top_word_indeces=single_topic.argsort()[-10:]\n"
      ],
      "execution_count": null,
      "outputs": []
    },
    {
      "cell_type": "code",
      "metadata": {
        "id": "oWsNtchXAwbo"
      },
      "source": [
        "tures a"
      ],
      "execution_count": null,
      "outputs": []
    },
    {
      "cell_type": "code",
      "metadata": {
        "colab": {
          "base_uri": "https://localhost:8080/"
        },
        "id": "OA7nH1rzYenv",
        "outputId": "24ec4a54-4de2-4078-821e-7f11301c9e0e"
      },
      "source": [
        "for index in top_word_indeces:\n",
        "  print(cv.get_feature_names()[index])"
      ],
      "execution_count": null,
      "outputs": [
        {
          "output_type": "stream",
          "text": [
            "solutions\n",
            "global\n",
            "ability\n",
            "team\n",
            "insurance\n",
            "management\n",
            "analysis\n",
            "requirements\n",
            "quality\n",
            "reporting\n"
          ],
          "name": "stdout"
        }
      ]
    },
    {
      "cell_type": "markdown",
      "metadata": {
        "id": "vWk-Vr8PZ3If"
      },
      "source": [
        "lets confirm by using .transform() on our vectorized articles to attach a label number. But firts, let's view all the 10 topics found"
      ]
    },
    {
      "cell_type": "code",
      "metadata": {
        "colab": {
          "base_uri": "https://localhost:8080/"
        },
        "id": "G3mU_2qaZ1eH",
        "outputId": "87dcf457-58fe-49bb-edd7-c6a332682617"
      },
      "source": [
        "#array_val=[]\n",
        "for index,topic in enumerate(LDA.components_):\n",
        "  print(f'THE TOP 10 WORDS FOR TOPIC #{index}')\n",
        "  print([cv.get_feature_names()[i] for i in topic.argsort()[-15:]])\n",
        "  #for i in topic.argsort()[-15:]:\n",
        "   #print(cv.get_feature_names()[i])\n",
        "   #values= cv.get_feature_names()[i]\n",
        "   #print(values)\n",
        "   #array_val.append(values)\n",
        "   #array_words_combine.append(cv.get_feature_names()[i])\n",
        "  "
      ],
      "execution_count": null,
      "outputs": [
        {
          "output_type": "stream",
          "text": [
            "THE TOP 10 WORDS FOR TOPIC #0\n",
            "['reports', 'join', 'sql', 'company', 'governance', 'solutions', 'global', 'ability', 'team', 'insurance', 'management', 'analysis', 'requirements', 'quality', 'reporting']\n",
            "THE TOP 10 WORDS FOR TOPIC #1\n",
            "['remote', 'insights', 'll', 'market', 'making', 'opportunity', 'looking', 'new', 'power', 'sql', 'team', 'bi', 'product', 'work', '000']\n",
            "THE TOP 10 WORDS FOR TOPIC #2\n",
            "['sql', 'ability', 'people', 'requirements', 'ensure', 'mi', 'using', 'management', 'master', 'team', 'group', 'support', 'analysis', 'work', 'able']\n",
            "THE TOP 10 WORDS FOR TOPIC #3\n",
            "['employment', 'excel', 'analysis', 'customer', 'recruitment', 'client', 'company', 'looking', 'management', 'support', 'job', 'team', 'work', 'reporting', 'new']\n",
            "THE TOP 10 WORDS FOR TOPIC #4\n",
            "['new', 'processes', 'reports', 'requirements', 'company', 'knowledge', 'client', 'ability', 'excel', 'strong', 'senior', 'work', 'sql', 'analysis', 'team']\n",
            "THE TOP 10 WORDS FOR TOPIC #5\n",
            "['warehouse', 'financial', 'quality', 'azure', 'key', 'development', 'right', 'internal', 'management', 'ensure', 'product', 'work', 'delivery', 'project', 'team']\n",
            "THE TOP 10 WORDS FOR TOPIC #6\n",
            "['equivalent', 'including', 'analytics', 'analytical', 'key', 'client', 'analysis', 'governance', 'development', 'using', 'level', 'training', 'apprentice', 'work', 'apprenticeship']\n",
            "THE TOP 10 WORDS FOR TOPIC #7\n",
            "['required', 'systems', 'colleagues', 'analysis', 'provide', 'people', 'risk', 'ability', 'including', 'team', 'information', 'hr', 'work', 'management', 'support']\n",
            "THE TOP 10 WORDS FOR TOPIC #8\n",
            "['sql', 'excel', 'using', 'tools', 'support', 'key', 'work', 'analytical', 'knowledge', 'team', 'management', 'quality', 'reporting', 'information', 'analysis']\n",
            "THE TOP 10 WORDS FOR TOPIC #9\n",
            "['client', '000', 'customer', 'team', 'tools', 'apply', 'sql', 'analysis', 'google', 'company', 'insights', 'digital', 'insight', 'analytics', 'marketing']\n"
          ],
          "name": "stdout"
        }
      ]
    },
    {
      "cell_type": "code",
      "metadata": {
        "colab": {
          "base_uri": "https://localhost:8080/"
        },
        "id": "ruHFIYxe-qVJ",
        "outputId": "eab81f49-91c7-4f33-cb30-55316239f339"
      },
      "source": [
        "array_val=[]\n",
        "for index,topic in enumerate(LDA.components_):\n",
        "  print(f'THE TOP 15 WORDS FOR TOPIC #{index}')\n",
        "  #print([cv.get_feature_names()[i] for i in topic.argsort()[-10:]])\n",
        "  for i in topic.argsort()[-25:]:\n",
        "   #print(cv.get_feature_names()[i])\n",
        "   values= cv.get_feature_names()[i]\n",
        "   #print(values)\n",
        "   array_val.append(values)\n",
        "   #array_words_combine.append(cv.get_feature_names()[i])\n",
        "  print(\"\\n\")"
      ],
      "execution_count": null,
      "outputs": [
        {
          "output_type": "stream",
          "text": [
            "THE TOP 15 WORDS FOR TOPIC #0\n",
            "\n",
            "\n",
            "THE TOP 15 WORDS FOR TOPIC #1\n",
            "\n",
            "\n",
            "THE TOP 15 WORDS FOR TOPIC #2\n",
            "\n",
            "\n",
            "THE TOP 15 WORDS FOR TOPIC #3\n",
            "\n",
            "\n",
            "THE TOP 15 WORDS FOR TOPIC #4\n",
            "\n",
            "\n",
            "THE TOP 15 WORDS FOR TOPIC #5\n",
            "\n",
            "\n"
          ],
          "name": "stdout"
        }
      ]
    },
    {
      "cell_type": "code",
      "metadata": {
        "colab": {
          "base_uri": "https://localhost:8080/"
        },
        "id": "gY4ysl2S6Hxy",
        "outputId": "5164f184-2284-4b8f-be19-e50efcd9c0e6"
      },
      "source": [
        "print(array_val)"
      ],
      "execution_count": null,
      "outputs": [
        {
          "output_type": "stream",
          "text": [
            "['service', 'provide', 'project', 'level', 'company', 'technical', 'information', 'analysis', 'clients', 'including', 'client', 'development', 'services', 'solutions', 'working', 'role', 'ability', 'analyst', 'management', 'support', 'experience', 'business', 'work', 'team', 'skills', 'insight', 'new', 'company', 'strong', 'bi', 'looking', 'key', 'knowledge', 'customer', 'digital', 'opportunity', 'excel', 'team', 'client', 'marketing', 'analysis', 'work', 'working', 'analytics', 'sql', 'role', 'business', 'skills', 'experience', 'analyst', 'migration', 'leading', 'key', 'working', 'insights', 'day', 'knowledge', 'skills', 'opportunity', 'sales', 'new', 'business', '000', 'analysis', 'analytical', 'team', 'excel', 'systems', 'sql', 'support', 'management', 'role', 'product', 'analyst', 'experience', 'using', 'employment', 'provide', 'key', 'ensure', 'job', 'systems', 'processes', 'ability', 'reports', 'requirements', 'management', 'information', 'analyst', 'role', 'work', 'new', 'team', 'working', 'skills', 'support', 'analysis', 'experience', 'reporting', 'business', 'insights', 'benefits', 'bi', 'key', 'opportunity', 'join', 'client', 'based', 'senior', 'sql', 'using', 'reporting', '000', 'company', 'apply', 'looking', 'analysis', 'work', 'skills', 'team', 'business', 'working', 'role', 'experience', 'analyst', 'london', 'ability', 'join', 'opportunity', 'day', 'home', 'global', 'role', 'skills', 'requirements', 'power', 'company', 'bi', 'sql', 'management', '000', 'insurance', 'governance', 'analysis', 'working', 'analyst', 'experience', 'business', 'reporting', 'quality']\n"
          ],
          "name": "stdout"
        }
      ]
    },
    {
      "cell_type": "markdown",
      "metadata": {
        "id": "jAsdFLTBa4VD"
      },
      "source": [
        "# attaching discovered topic labels to the original articles"
      ]
    },
    {
      "cell_type": "code",
      "metadata": {
        "colab": {
          "base_uri": "https://localhost:8080/"
        },
        "id": "V8aWBM_bbOIT",
        "outputId": "b6ca9808-17d9-43b7-d0d2-f46deb1c32dd"
      },
      "source": [
        "dtm"
      ],
      "execution_count": null,
      "outputs": [
        {
          "output_type": "execute_result",
          "data": {
            "text/plain": [
              "<634x4821 sparse matrix of type '<class 'numpy.int64'>'\n",
              "\twith 81688 stored elements in Compressed Sparse Row format>"
            ]
          },
          "metadata": {},
          "execution_count": 136
        }
      ]
    },
    {
      "cell_type": "code",
      "metadata": {
        "colab": {
          "base_uri": "https://localhost:8080/"
        },
        "id": "0GlKqxTDbPf0",
        "outputId": "43509284-48de-44f7-a836-0989f6dd266d"
      },
      "source": [
        "dtm.shape"
      ],
      "execution_count": null,
      "outputs": [
        {
          "output_type": "execute_result",
          "data": {
            "text/plain": [
              "(634, 4821)"
            ]
          },
          "metadata": {},
          "execution_count": 137
        }
      ]
    },
    {
      "cell_type": "code",
      "metadata": {
        "colab": {
          "base_uri": "https://localhost:8080/"
        },
        "id": "phs_dGB4bSWj",
        "outputId": "5bbeb6f5-1d2d-4b35-c5f0-9fb9b73bf570"
      },
      "source": [
        "len(df)"
      ],
      "execution_count": null,
      "outputs": [
        {
          "output_type": "execute_result",
          "data": {
            "text/plain": [
              "634"
            ]
          },
          "metadata": {},
          "execution_count": 138
        }
      ]
    },
    {
      "cell_type": "code",
      "metadata": {
        "id": "nQDt_hYLbURH"
      },
      "source": [
        "topic_results=LDA.transform(dtm)"
      ],
      "execution_count": null,
      "outputs": []
    },
    {
      "cell_type": "code",
      "metadata": {
        "colab": {
          "base_uri": "https://localhost:8080/"
        },
        "id": "1SYBJrusboeC",
        "outputId": "c0ed434f-ce06-4ae3-fdf4-b11f5fb5a2ab"
      },
      "source": [
        "topic_results.shape"
      ],
      "execution_count": null,
      "outputs": [
        {
          "output_type": "execute_result",
          "data": {
            "text/plain": [
              "(634, 10)"
            ]
          },
          "metadata": {},
          "execution_count": 140
        }
      ]
    },
    {
      "cell_type": "code",
      "metadata": {
        "colab": {
          "base_uri": "https://localhost:8080/"
        },
        "id": "Oq7bE4vDb6Ez",
        "outputId": "5176e81e-5d54-421d-840e-77b712ddd76b"
      },
      "source": [
        "topic_results[0]"
      ],
      "execution_count": null,
      "outputs": [
        {
          "output_type": "execute_result",
          "data": {
            "text/plain": [
              "array([0.59790254, 0.0007695 , 0.00076941, 0.1468137 , 0.00076948,\n",
              "       0.00076936, 0.00076944, 0.0007694 , 0.24989769, 0.00076949])"
            ]
          },
          "metadata": {},
          "execution_count": 141
        }
      ]
    },
    {
      "cell_type": "code",
      "metadata": {
        "colab": {
          "base_uri": "https://localhost:8080/"
        },
        "id": "OCu-VezhcHE8",
        "outputId": "120c9892-2f9b-42e9-8405-77423ab1e550"
      },
      "source": [
        "topic_results[0].round(2)"
      ],
      "execution_count": null,
      "outputs": [
        {
          "output_type": "execute_result",
          "data": {
            "text/plain": [
              "array([0.6 , 0.  , 0.  , 0.15, 0.  , 0.  , 0.  , 0.  , 0.25, 0.  ])"
            ]
          },
          "metadata": {},
          "execution_count": 142
        }
      ]
    },
    {
      "cell_type": "code",
      "metadata": {
        "colab": {
          "base_uri": "https://localhost:8080/"
        },
        "id": "h-AiJlofcdLP",
        "outputId": "ce35d178-9008-4afe-f8e3-0f21388bc66c"
      },
      "source": [
        "topic_results[0].argmax()"
      ],
      "execution_count": null,
      "outputs": [
        {
          "output_type": "execute_result",
          "data": {
            "text/plain": [
              "0"
            ]
          },
          "metadata": {},
          "execution_count": 143
        }
      ]
    },
    {
      "cell_type": "markdown",
      "metadata": {
        "id": "vhLRoJytciwk"
      },
      "source": [
        "this means that our model thinks that teh first topic belongs to topic 1"
      ]
    },
    {
      "cell_type": "code",
      "metadata": {
        "id": "AFdXN8nvQJH3"
      },
      "source": [
        ""
      ],
      "execution_count": null,
      "outputs": []
    },
    {
      "cell_type": "markdown",
      "metadata": {
        "id": "qn8rmldbgNG9"
      },
      "source": [
        "combining with original data"
      ]
    },
    {
      "cell_type": "code",
      "metadata": {
        "colab": {
          "base_uri": "https://localhost:8080/",
          "height": 564
        },
        "id": "YhQisapochly",
        "outputId": "a6bc0695-ecdd-49cf-a771-95269692f3d4"
      },
      "source": [
        "df.head()"
      ],
      "execution_count": null,
      "outputs": [
        {
          "output_type": "execute_result",
          "data": {
            "text/html": [
              "<div>\n",
              "<style scoped>\n",
              "    .dataframe tbody tr th:only-of-type {\n",
              "        vertical-align: middle;\n",
              "    }\n",
              "\n",
              "    .dataframe tbody tr th {\n",
              "        vertical-align: top;\n",
              "    }\n",
              "\n",
              "    .dataframe thead th {\n",
              "        text-align: right;\n",
              "    }\n",
              "</style>\n",
              "<table border=\"1\" class=\"dataframe\">\n",
              "  <thead>\n",
              "    <tr style=\"text-align: right;\">\n",
              "      <th></th>\n",
              "      <th>web-scraper-order</th>\n",
              "      <th>web-scraper-start-url</th>\n",
              "      <th>job_title_link</th>\n",
              "      <th>job_title_link-href</th>\n",
              "      <th>job_title</th>\n",
              "      <th>Company</th>\n",
              "      <th>Salary</th>\n",
              "      <th>Date</th>\n",
              "      <th>job_description</th>\n",
              "      <th>pages</th>\n",
              "      <th>pages-href</th>\n",
              "    </tr>\n",
              "  </thead>\n",
              "  <tbody>\n",
              "    <tr>\n",
              "      <th>0</th>\n",
              "      <td>1628454831-1436</td>\n",
              "      <td>https://www.reed.co.uk/jobs/data-analyst-jobs-...</td>\n",
              "      <td>Data Quality Analyst</td>\n",
              "      <td>https://www.reed.co.uk/jobs/data-quality-analy...</td>\n",
              "      <td>Data Quality Analyst</td>\n",
              "      <td>Profiles Creative</td>\n",
              "      <td>£36,000 - £38,000 per annum, negotiable, inc b...</td>\n",
              "      <td>Posted 20 July by \\n\\n                        ...</td>\n",
              "      <td>A leading online retail &amp; groceries brand is u...</td>\n",
              "      <td>NaN</td>\n",
              "      <td>NaN</td>\n",
              "    </tr>\n",
              "    <tr>\n",
              "      <th>1</th>\n",
              "      <td>1628455695-1752</td>\n",
              "      <td>https://www.reed.co.uk/jobs/data-analyst-jobs-...</td>\n",
              "      <td>Data Analyst</td>\n",
              "      <td>https://www.reed.co.uk/jobs/data-analyst/43351...</td>\n",
              "      <td>Data Analyst</td>\n",
              "      <td>Profectus Recruitment</td>\n",
              "      <td>£30,000 - £40,000 per annum</td>\n",
              "      <td>Posted 13 July by \\n\\n                        ...</td>\n",
              "      <td>Commercial Data Analyst\\nLondon - Part Remote ...</td>\n",
              "      <td>2.0</td>\n",
              "      <td>https://www.reed.co.uk/jobs/data-analyst-jobs-...</td>\n",
              "    </tr>\n",
              "    <tr>\n",
              "      <th>2</th>\n",
              "      <td>1628455409-1639</td>\n",
              "      <td>https://www.reed.co.uk/jobs/data-analyst-jobs-...</td>\n",
              "      <td>Senior Data Analyst</td>\n",
              "      <td>https://www.reed.co.uk/jobs/senior-data-analys...</td>\n",
              "      <td>Senior Data Analyst</td>\n",
              "      <td>Data Idols</td>\n",
              "      <td>Salary negotiable</td>\n",
              "      <td>Posted 28 June by \\n\\n                        ...</td>\n",
              "      <td>Senior Data Analyst  Data Idols are working wi...</td>\n",
              "      <td>NaN</td>\n",
              "      <td>NaN</td>\n",
              "    </tr>\n",
              "    <tr>\n",
              "      <th>3</th>\n",
              "      <td>1628455063-1527</td>\n",
              "      <td>https://www.reed.co.uk/jobs/data-analyst-jobs-...</td>\n",
              "      <td>Market Data Analyst</td>\n",
              "      <td>https://www.reed.co.uk/jobs/market-data-analys...</td>\n",
              "      <td>Market Data Analyst</td>\n",
              "      <td>James Frank Associates</td>\n",
              "      <td>£25,000 per annum</td>\n",
              "      <td>Posted 5 July by \\n\\n                        J...</td>\n",
              "      <td>Our client, a well-established and hugely-succ...</td>\n",
              "      <td>NaN</td>\n",
              "      <td>NaN</td>\n",
              "    </tr>\n",
              "    <tr>\n",
              "      <th>4</th>\n",
              "      <td>1628454193-1193</td>\n",
              "      <td>https://www.reed.co.uk/jobs/data-analyst-jobs-...</td>\n",
              "      <td>Customer Service Data Analyst</td>\n",
              "      <td>https://www.reed.co.uk/jobs/customer-service-d...</td>\n",
              "      <td>Customer Service Data Analyst</td>\n",
              "      <td>Focus Resourcing</td>\n",
              "      <td>Salary negotiable</td>\n",
              "      <td>Posted 30 July by \\n\\n                        ...</td>\n",
              "      <td>4-6 month contract to cover sabbatical  Workin...</td>\n",
              "      <td>NaN</td>\n",
              "      <td>NaN</td>\n",
              "    </tr>\n",
              "  </tbody>\n",
              "</table>\n",
              "</div>"
            ],
            "text/plain": [
              "  web-scraper-order  ...                                         pages-href\n",
              "0   1628454831-1436  ...                                                NaN\n",
              "1   1628455695-1752  ...  https://www.reed.co.uk/jobs/data-analyst-jobs-...\n",
              "2   1628455409-1639  ...                                                NaN\n",
              "3   1628455063-1527  ...                                                NaN\n",
              "4   1628454193-1193  ...                                                NaN\n",
              "\n",
              "[5 rows x 11 columns]"
            ]
          },
          "metadata": {},
          "execution_count": 144
        }
      ]
    },
    {
      "cell_type": "code",
      "metadata": {
        "colab": {
          "base_uri": "https://localhost:8080/"
        },
        "id": "0Etr3wV9gP3o",
        "outputId": "2ad315a2-75c4-4dc7-bdd0-1c52b89945ab"
      },
      "source": [
        "topic_results.argmax(axis=1)"
      ],
      "execution_count": null,
      "outputs": [
        {
          "output_type": "execute_result",
          "data": {
            "text/plain": [
              "array([0, 4, 4, 9, 3, 4, 4, 3, 3, 9, 8, 4, 8, 3, 3, 3, 3, 3, 0, 3, 9, 7,\n",
              "       8, 3, 3, 1, 9, 8, 9, 8, 0, 3, 6, 3, 8, 8, 4, 4, 9, 0, 9, 8, 4, 8,\n",
              "       4, 9, 7, 4, 4, 3, 1, 3, 4, 3, 4, 3, 3, 7, 3, 8, 7, 1, 8, 8, 1, 3,\n",
              "       4, 8, 7, 4, 6, 4, 9, 6, 3, 3, 0, 3, 4, 3, 3, 8, 4, 3, 9, 9, 3, 8,\n",
              "       8, 3, 6, 4, 7, 8, 4, 8, 8, 9, 4, 8, 4, 4, 4, 4, 7, 3, 3, 9, 3, 3,\n",
              "       7, 4, 4, 7, 7, 4, 7, 7, 3, 0, 9, 3, 9, 5, 8, 3, 3, 9, 0, 9, 4, 8,\n",
              "       3, 9, 3, 3, 8, 4, 3, 9, 0, 3, 4, 0, 3, 4, 9, 8, 9, 3, 7, 9, 3, 4,\n",
              "       4, 3, 3, 3, 9, 9, 4, 3, 3, 8, 3, 6, 7, 4, 4, 3, 3, 3, 3, 4, 4, 1,\n",
              "       8, 3, 3, 4, 8, 4, 3, 5, 8, 0, 3, 5, 8, 4, 4, 3, 4, 3, 7, 8, 9, 3,\n",
              "       3, 9, 2, 3, 0, 3, 2, 7, 3, 3, 8, 1, 9, 9, 4, 9, 0, 9, 4, 4, 3, 1,\n",
              "       4, 8, 9, 8, 4, 3, 7, 5, 4, 4, 4, 4, 3, 1, 4, 4, 3, 4, 3, 4, 1, 4,\n",
              "       3, 5, 3, 4, 3, 3, 4, 7, 7, 3, 4, 7, 5, 0, 0, 4, 3, 4, 0, 9, 4, 9,\n",
              "       4, 0, 3, 3, 8, 4, 3, 3, 9, 4, 3, 4, 6, 2, 3, 3, 4, 4, 3, 7, 3, 4,\n",
              "       4, 4, 3, 3, 3, 4, 4, 4, 8, 4, 0, 0, 9, 3, 4, 4, 3, 7, 4, 3, 4, 8,\n",
              "       3, 9, 3, 8, 7, 3, 5, 7, 0, 9, 3, 9, 3, 4, 8, 7, 0, 6, 3, 0, 4, 3,\n",
              "       8, 4, 0, 7, 7, 3, 9, 8, 6, 6, 5, 3, 3, 2, 3, 0, 2, 4, 4, 9, 4, 9,\n",
              "       7, 0, 3, 7, 4, 1, 9, 4, 1, 9, 4, 3, 2, 3, 3, 3, 4, 4, 3, 6, 3, 2,\n",
              "       4, 9, 1, 8, 3, 2, 5, 0, 4, 8, 8, 0, 4, 8, 3, 3, 7, 3, 3, 3, 9, 6,\n",
              "       7, 1, 4, 3, 3, 6, 4, 7, 4, 3, 8, 1, 3, 1, 4, 3, 9, 4, 9, 4, 5, 8,\n",
              "       3, 9, 1, 1, 9, 3, 1, 3, 4, 3, 1, 3, 3, 4, 9, 9, 2, 3, 4, 9, 4, 3,\n",
              "       4, 3, 6, 1, 3, 0, 1, 8, 3, 4, 4, 4, 3, 3, 8, 2, 3, 4, 9, 5, 3, 0,\n",
              "       4, 3, 8, 4, 9, 4, 3, 3, 4, 1, 4, 9, 4, 4, 8, 3, 7, 9, 0, 4, 9, 3,\n",
              "       3, 4, 9, 4, 9, 4, 3, 0, 3, 9, 3, 7, 2, 4, 3, 4, 3, 0, 3, 3, 3, 3,\n",
              "       3, 3, 3, 9, 8, 7, 2, 9, 1, 2, 7, 4, 1, 3, 9, 8, 9, 4, 3, 4, 9, 4,\n",
              "       9, 3, 3, 4, 0, 8, 9, 9, 2, 4, 3, 6, 5, 4, 4, 9, 6, 4, 0, 6, 0, 3,\n",
              "       0, 8, 9, 8, 8, 4, 4, 9, 8, 4, 7, 7, 2, 1, 4, 4, 4, 3, 9, 3, 3, 3,\n",
              "       9, 2, 0, 7, 3, 7, 3, 2, 3, 4, 7, 3, 3, 7, 4, 5, 3, 2, 0, 8, 9, 4,\n",
              "       3, 3, 3, 2, 7, 2, 4, 3, 3, 4, 4, 4, 0, 3, 8, 9, 6, 4, 2, 3, 4, 3,\n",
              "       3, 3, 3, 6, 7, 8, 4, 3, 4, 4, 3, 4, 4, 9, 9, 3, 3, 3])"
            ]
          },
          "metadata": {},
          "execution_count": 145
        }
      ]
    },
    {
      "cell_type": "code",
      "metadata": {
        "colab": {
          "base_uri": "https://localhost:8080/"
        },
        "id": "a8UinPC_gziR",
        "outputId": "25ae708f-b72d-4b5e-9590-7da728d4b73a"
      },
      "source": [
        "len(topic_results.argmax(axis=1))"
      ],
      "execution_count": null,
      "outputs": [
        {
          "output_type": "execute_result",
          "data": {
            "text/plain": [
              "634"
            ]
          },
          "metadata": {},
          "execution_count": 146
        }
      ]
    },
    {
      "cell_type": "code",
      "metadata": {
        "id": "JBlzBPC5gUA8"
      },
      "source": [
        "df['job_description_topic']= topic_results.argmax(axis=1)"
      ],
      "execution_count": null,
      "outputs": []
    },
    {
      "cell_type": "code",
      "metadata": {
        "colab": {
          "base_uri": "https://localhost:8080/",
          "height": 564
        },
        "id": "lR7XDmnug8Ie",
        "outputId": "5b21e965-6dd4-4ac5-f197-1ae79aaa25de"
      },
      "source": [
        "df.head()"
      ],
      "execution_count": null,
      "outputs": [
        {
          "output_type": "execute_result",
          "data": {
            "text/html": [
              "<div>\n",
              "<style scoped>\n",
              "    .dataframe tbody tr th:only-of-type {\n",
              "        vertical-align: middle;\n",
              "    }\n",
              "\n",
              "    .dataframe tbody tr th {\n",
              "        vertical-align: top;\n",
              "    }\n",
              "\n",
              "    .dataframe thead th {\n",
              "        text-align: right;\n",
              "    }\n",
              "</style>\n",
              "<table border=\"1\" class=\"dataframe\">\n",
              "  <thead>\n",
              "    <tr style=\"text-align: right;\">\n",
              "      <th></th>\n",
              "      <th>web-scraper-order</th>\n",
              "      <th>web-scraper-start-url</th>\n",
              "      <th>job_title_link</th>\n",
              "      <th>job_title_link-href</th>\n",
              "      <th>job_title</th>\n",
              "      <th>Company</th>\n",
              "      <th>Salary</th>\n",
              "      <th>Date</th>\n",
              "      <th>job_description</th>\n",
              "      <th>pages</th>\n",
              "      <th>pages-href</th>\n",
              "      <th>job_description_topic</th>\n",
              "    </tr>\n",
              "  </thead>\n",
              "  <tbody>\n",
              "    <tr>\n",
              "      <th>0</th>\n",
              "      <td>1628454831-1436</td>\n",
              "      <td>https://www.reed.co.uk/jobs/data-analyst-jobs-...</td>\n",
              "      <td>Data Quality Analyst</td>\n",
              "      <td>https://www.reed.co.uk/jobs/data-quality-analy...</td>\n",
              "      <td>Data Quality Analyst</td>\n",
              "      <td>Profiles Creative</td>\n",
              "      <td>£36,000 - £38,000 per annum, negotiable, inc b...</td>\n",
              "      <td>Posted 20 July by \\n\\n                        ...</td>\n",
              "      <td>A leading online retail &amp; groceries brand is u...</td>\n",
              "      <td>NaN</td>\n",
              "      <td>NaN</td>\n",
              "      <td>0</td>\n",
              "    </tr>\n",
              "    <tr>\n",
              "      <th>1</th>\n",
              "      <td>1628455695-1752</td>\n",
              "      <td>https://www.reed.co.uk/jobs/data-analyst-jobs-...</td>\n",
              "      <td>Data Analyst</td>\n",
              "      <td>https://www.reed.co.uk/jobs/data-analyst/43351...</td>\n",
              "      <td>Data Analyst</td>\n",
              "      <td>Profectus Recruitment</td>\n",
              "      <td>£30,000 - £40,000 per annum</td>\n",
              "      <td>Posted 13 July by \\n\\n                        ...</td>\n",
              "      <td>Commercial Data Analyst\\nLondon - Part Remote ...</td>\n",
              "      <td>2.0</td>\n",
              "      <td>https://www.reed.co.uk/jobs/data-analyst-jobs-...</td>\n",
              "      <td>4</td>\n",
              "    </tr>\n",
              "    <tr>\n",
              "      <th>2</th>\n",
              "      <td>1628455409-1639</td>\n",
              "      <td>https://www.reed.co.uk/jobs/data-analyst-jobs-...</td>\n",
              "      <td>Senior Data Analyst</td>\n",
              "      <td>https://www.reed.co.uk/jobs/senior-data-analys...</td>\n",
              "      <td>Senior Data Analyst</td>\n",
              "      <td>Data Idols</td>\n",
              "      <td>Salary negotiable</td>\n",
              "      <td>Posted 28 June by \\n\\n                        ...</td>\n",
              "      <td>Senior Data Analyst  Data Idols are working wi...</td>\n",
              "      <td>NaN</td>\n",
              "      <td>NaN</td>\n",
              "      <td>4</td>\n",
              "    </tr>\n",
              "    <tr>\n",
              "      <th>3</th>\n",
              "      <td>1628455063-1527</td>\n",
              "      <td>https://www.reed.co.uk/jobs/data-analyst-jobs-...</td>\n",
              "      <td>Market Data Analyst</td>\n",
              "      <td>https://www.reed.co.uk/jobs/market-data-analys...</td>\n",
              "      <td>Market Data Analyst</td>\n",
              "      <td>James Frank Associates</td>\n",
              "      <td>£25,000 per annum</td>\n",
              "      <td>Posted 5 July by \\n\\n                        J...</td>\n",
              "      <td>Our client, a well-established and hugely-succ...</td>\n",
              "      <td>NaN</td>\n",
              "      <td>NaN</td>\n",
              "      <td>9</td>\n",
              "    </tr>\n",
              "    <tr>\n",
              "      <th>4</th>\n",
              "      <td>1628454193-1193</td>\n",
              "      <td>https://www.reed.co.uk/jobs/data-analyst-jobs-...</td>\n",
              "      <td>Customer Service Data Analyst</td>\n",
              "      <td>https://www.reed.co.uk/jobs/customer-service-d...</td>\n",
              "      <td>Customer Service Data Analyst</td>\n",
              "      <td>Focus Resourcing</td>\n",
              "      <td>Salary negotiable</td>\n",
              "      <td>Posted 30 July by \\n\\n                        ...</td>\n",
              "      <td>4-6 month contract to cover sabbatical  Workin...</td>\n",
              "      <td>NaN</td>\n",
              "      <td>NaN</td>\n",
              "      <td>3</td>\n",
              "    </tr>\n",
              "  </tbody>\n",
              "</table>\n",
              "</div>"
            ],
            "text/plain": [
              "  web-scraper-order  ... job_description_topic\n",
              "0   1628454831-1436  ...                     0\n",
              "1   1628455695-1752  ...                     4\n",
              "2   1628455409-1639  ...                     4\n",
              "3   1628455063-1527  ...                     9\n",
              "4   1628454193-1193  ...                     3\n",
              "\n",
              "[5 rows x 12 columns]"
            ]
          },
          "metadata": {},
          "execution_count": 148
        }
      ]
    },
    {
      "cell_type": "code",
      "metadata": {
        "id": "CRVtnvfD80Fp"
      },
      "source": [
        "df.to_csv('results_LDA3.csv')"
      ],
      "execution_count": null,
      "outputs": []
    },
    {
      "cell_type": "code",
      "metadata": {
        "id": "45E9ZevI80MQ"
      },
      "source": [
        ""
      ],
      "execution_count": null,
      "outputs": []
    },
    {
      "cell_type": "code",
      "metadata": {
        "id": "oGqNciNA80RJ"
      },
      "source": [
        ""
      ],
      "execution_count": null,
      "outputs": []
    },
    {
      "cell_type": "code",
      "metadata": {
        "id": "4rmKEwWu80dV"
      },
      "source": [
        ""
      ],
      "execution_count": null,
      "outputs": []
    },
    {
      "cell_type": "markdown",
      "metadata": {
        "id": "Xqi-DHtW9EBT"
      },
      "source": [
        "#Word2 vec"
      ]
    },
    {
      "cell_type": "code",
      "metadata": {
        "id": "MDHFUPTx9GDH"
      },
      "source": [
        "import os\n",
        "import sys\n",
        "import re\n",
        "#from gensim.models import Word2Vec\n",
        "from gensim.models import word2vec"
      ],
      "execution_count": null,
      "outputs": []
    },
    {
      "cell_type": "code",
      "metadata": {
        "id": "enIUQ0G69JmH"
      },
      "source": [
        "# Set values for various parameters\n",
        "feature_size = 100   # Word vector dimensionality  \n",
        "window_context = 30          # Context window size                                                                                    \n",
        "min_word_count = 1   # Minimum word count                        \n",
        "sample = 1e-3   # Downsample setting for frequent words"
      ],
      "execution_count": null,
      "outputs": []
    },
    {
      "cell_type": "code",
      "metadata": {
        "id": "MzkceQCH9QY2"
      },
      "source": [
        "w2v_model = word2vec.Word2Vec([array_val], size=feature_size, \n",
        "                          window=window_context, min_count=min_word_count,\n",
        "                          sample=sample)"
      ],
      "execution_count": null,
      "outputs": []
    },
    {
      "cell_type": "code",
      "metadata": {
        "colab": {
          "base_uri": "https://localhost:8080/"
        },
        "id": "Ulujs-Js9Vta",
        "outputId": "fc67eaa8-18f3-490f-cde9-2423af2b39a8"
      },
      "source": [
        "w2v_model"
      ],
      "execution_count": null,
      "outputs": [
        {
          "output_type": "execute_result",
          "data": {
            "text/plain": [
              "<gensim.models.word2vec.Word2Vec at 0x7fc0ea9895d0>"
            ]
          },
          "metadata": {},
          "execution_count": 361
        }
      ]
    },
    {
      "cell_type": "code",
      "metadata": {
        "colab": {
          "base_uri": "https://localhost:8080/"
        },
        "id": "yeNXpqGc9Y-G",
        "outputId": "1832dc77-1a77-4969-b049-4661efe6cd61"
      },
      "source": [
        "w2v_model.vector_size"
      ],
      "execution_count": null,
      "outputs": [
        {
          "output_type": "execute_result",
          "data": {
            "text/plain": [
              "100"
            ]
          },
          "metadata": {},
          "execution_count": 362
        }
      ]
    },
    {
      "cell_type": "code",
      "metadata": {
        "colab": {
          "base_uri": "https://localhost:8080/"
        },
        "id": "50YAv8xm9dY8",
        "outputId": "a57e419a-9b52-47ef-ed95-5bcbfbb1581d"
      },
      "source": [
        "w2v_model.wv"
      ],
      "execution_count": null,
      "outputs": [
        {
          "output_type": "execute_result",
          "data": {
            "text/plain": [
              "<gensim.models.keyedvectors.Word2VecKeyedVectors at 0x7fc0ea9899d0>"
            ]
          },
          "metadata": {},
          "execution_count": 363
        }
      ]
    },
    {
      "cell_type": "code",
      "metadata": {
        "colab": {
          "base_uri": "https://localhost:8080/",
          "height": 340
        },
        "id": "8ssLKbNw9k9W",
        "outputId": "d87a651c-ca43-4630-eeaf-c331341fb547"
      },
      "source": [
        "similar_words = {search_term: [item for item in w2v_model.wv.most_similar([search_term])]\n",
        "                  for search_term in ['data','reporting']}\n",
        "similar_words"
      ],
      "execution_count": null,
      "outputs": [
        {
          "output_type": "error",
          "ename": "KeyError",
          "evalue": "ignored",
          "traceback": [
            "\u001b[0;31m---------------------------------------------------------------------------\u001b[0m",
            "\u001b[0;31mKeyError\u001b[0m                                  Traceback (most recent call last)",
            "\u001b[0;32m<ipython-input-366-8f1dd9a78611>\u001b[0m in \u001b[0;36m<module>\u001b[0;34m()\u001b[0m\n\u001b[1;32m      1\u001b[0m similar_words = {search_term: [item for item in w2v_model.wv.most_similar([search_term])]\n\u001b[0;32m----> 2\u001b[0;31m                   for search_term in ['data','reporting']}\n\u001b[0m\u001b[1;32m      3\u001b[0m \u001b[0msimilar_words\u001b[0m\u001b[0;34m\u001b[0m\u001b[0;34m\u001b[0m\u001b[0m\n",
            "\u001b[0;32m<ipython-input-366-8f1dd9a78611>\u001b[0m in \u001b[0;36m<dictcomp>\u001b[0;34m(.0)\u001b[0m\n\u001b[1;32m      1\u001b[0m similar_words = {search_term: [item for item in w2v_model.wv.most_similar([search_term])]\n\u001b[0;32m----> 2\u001b[0;31m                   for search_term in ['data','reporting']}\n\u001b[0m\u001b[1;32m      3\u001b[0m \u001b[0msimilar_words\u001b[0m\u001b[0;34m\u001b[0m\u001b[0;34m\u001b[0m\u001b[0m\n",
            "\u001b[0;32m/usr/local/lib/python3.7/dist-packages/gensim/models/keyedvectors.py\u001b[0m in \u001b[0;36mmost_similar\u001b[0;34m(self, positive, negative, topn, restrict_vocab, indexer)\u001b[0m\n\u001b[1;32m    529\u001b[0m                 \u001b[0mmean\u001b[0m\u001b[0;34m.\u001b[0m\u001b[0mappend\u001b[0m\u001b[0;34m(\u001b[0m\u001b[0mweight\u001b[0m \u001b[0;34m*\u001b[0m \u001b[0mword\u001b[0m\u001b[0;34m)\u001b[0m\u001b[0;34m\u001b[0m\u001b[0;34m\u001b[0m\u001b[0m\n\u001b[1;32m    530\u001b[0m             \u001b[0;32melse\u001b[0m\u001b[0;34m:\u001b[0m\u001b[0;34m\u001b[0m\u001b[0;34m\u001b[0m\u001b[0m\n\u001b[0;32m--> 531\u001b[0;31m                 \u001b[0mmean\u001b[0m\u001b[0;34m.\u001b[0m\u001b[0mappend\u001b[0m\u001b[0;34m(\u001b[0m\u001b[0mweight\u001b[0m \u001b[0;34m*\u001b[0m \u001b[0mself\u001b[0m\u001b[0;34m.\u001b[0m\u001b[0mword_vec\u001b[0m\u001b[0;34m(\u001b[0m\u001b[0mword\u001b[0m\u001b[0;34m,\u001b[0m \u001b[0muse_norm\u001b[0m\u001b[0;34m=\u001b[0m\u001b[0;32mTrue\u001b[0m\u001b[0;34m)\u001b[0m\u001b[0;34m)\u001b[0m\u001b[0;34m\u001b[0m\u001b[0;34m\u001b[0m\u001b[0m\n\u001b[0m\u001b[1;32m    532\u001b[0m                 \u001b[0;32mif\u001b[0m \u001b[0mword\u001b[0m \u001b[0;32min\u001b[0m \u001b[0mself\u001b[0m\u001b[0;34m.\u001b[0m\u001b[0mvocab\u001b[0m\u001b[0;34m:\u001b[0m\u001b[0;34m\u001b[0m\u001b[0;34m\u001b[0m\u001b[0m\n\u001b[1;32m    533\u001b[0m                     \u001b[0mall_words\u001b[0m\u001b[0;34m.\u001b[0m\u001b[0madd\u001b[0m\u001b[0;34m(\u001b[0m\u001b[0mself\u001b[0m\u001b[0;34m.\u001b[0m\u001b[0mvocab\u001b[0m\u001b[0;34m[\u001b[0m\u001b[0mword\u001b[0m\u001b[0;34m]\u001b[0m\u001b[0;34m.\u001b[0m\u001b[0mindex\u001b[0m\u001b[0;34m)\u001b[0m\u001b[0;34m\u001b[0m\u001b[0;34m\u001b[0m\u001b[0m\n",
            "\u001b[0;32m/usr/local/lib/python3.7/dist-packages/gensim/models/keyedvectors.py\u001b[0m in \u001b[0;36mword_vec\u001b[0;34m(self, word, use_norm)\u001b[0m\n\u001b[1;32m    450\u001b[0m             \u001b[0;32mreturn\u001b[0m \u001b[0mresult\u001b[0m\u001b[0;34m\u001b[0m\u001b[0;34m\u001b[0m\u001b[0m\n\u001b[1;32m    451\u001b[0m         \u001b[0;32melse\u001b[0m\u001b[0;34m:\u001b[0m\u001b[0;34m\u001b[0m\u001b[0;34m\u001b[0m\u001b[0m\n\u001b[0;32m--> 452\u001b[0;31m             \u001b[0;32mraise\u001b[0m \u001b[0mKeyError\u001b[0m\u001b[0;34m(\u001b[0m\u001b[0;34m\"word '%s' not in vocabulary\"\u001b[0m \u001b[0;34m%\u001b[0m \u001b[0mword\u001b[0m\u001b[0;34m)\u001b[0m\u001b[0;34m\u001b[0m\u001b[0;34m\u001b[0m\u001b[0m\n\u001b[0m\u001b[1;32m    453\u001b[0m \u001b[0;34m\u001b[0m\u001b[0m\n\u001b[1;32m    454\u001b[0m     \u001b[0;32mdef\u001b[0m \u001b[0mget_vector\u001b[0m\u001b[0;34m(\u001b[0m\u001b[0mself\u001b[0m\u001b[0;34m,\u001b[0m \u001b[0mword\u001b[0m\u001b[0;34m)\u001b[0m\u001b[0;34m:\u001b[0m\u001b[0;34m\u001b[0m\u001b[0;34m\u001b[0m\u001b[0m\n",
            "\u001b[0;31mKeyError\u001b[0m: \"word 'data' not in vocabulary\""
          ]
        }
      ]
    }
  ]
}